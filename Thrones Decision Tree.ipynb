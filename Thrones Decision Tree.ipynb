{
 "cells": [
  {
   "cell_type": "code",
   "execution_count": 3,
   "metadata": {
    "collapsed": true
   },
   "outputs": [],
   "source": [
    "import numpy as np\n",
    "import pandas as pd\n",
    "from sklearn import tree"
   ]
  },
  {
   "cell_type": "code",
   "execution_count": 6,
   "metadata": {
    "collapsed": false
   },
   "outputs": [],
   "source": [
    "battles = pd.read_csv(\"input/battles.csv\")\n",
    "character_deaths = pd.read_csv(\"input/character-deaths.csv\")\n",
    "character_predictions = pd.read_csv(\"input/character-predictions.csv\")"
   ]
  },
  {
   "cell_type": "code",
   "execution_count": 7,
   "metadata": {
    "collapsed": false
   },
   "outputs": [],
   "source": [
    "prediction_features = character_predictions[['isAlive', 'male','isAliveMother', 'isAliveFather','isAliveHeir','isAliveSpouse','isMarried','isNoble','age','numDeadRelations','boolDeadRelations', 'isPopular']]\n",
    "prediction_features = pd.concat([prediction_features, pd.get_dummies(character_predictions.culture), pd.get_dummies(character_predictions.house)], axis=1)\n",
    "prediction_features = prediction_features.fillna(-100)"
   ]
  },
  {
   "cell_type": "code",
   "execution_count": 9,
   "metadata": {
    "collapsed": false
   },
   "outputs": [
    {
     "name": "stdout",
     "output_type": "stream",
     "text": [
      "26.3103802672\n"
     ]
    }
   ],
   "source": [
    "# The original prediction\n",
    "diff = 0.0\n",
    "actual = character_predictions.actual\n",
    "pred = character_predictions.pred\n",
    "\n",
    "diff = (pred!=actual).sum()\n",
    "print(diff/float(len(pred))*100)"
   ]
  },
  {
   "cell_type": "code",
   "execution_count": 688,
   "metadata": {
    "collapsed": false
   },
   "outputs": [
    {
     "name": "stdout",
     "output_type": "stream",
     "text": [
      "258.208 26.537307297\n"
     ]
    }
   ],
   "source": [
    "k = 1000\n",
    "# using 50% of the data set as training set\n",
    "split = prediction_features.shape[0]/2\n",
    "\n",
    "shuffled = prediction_features.iloc[np.random.permutation(len(prediction_features))]\n",
    "shuffled = shuffled.reset_index(drop=True)\n",
    "\n",
    "avg1 = 0.0\n",
    "sum1 = 0.0\n",
    "percent1 = 0.0\n",
    "\n",
    "for i in range(k):\n",
    "    shuffled = prediction_features.iloc[np.random.permutation(len(prediction_features))]\n",
    "    shuffled = shuffled.reset_index(drop=True)\n",
    "    \n",
    "    training = shuffled.ix[:split, 1:]\n",
    "    target = shuffled.ix[:split, :1]\n",
    "    test = shuffled.ix[split:,1:]\n",
    "    real = shuffled.ix[split:,:1]\n",
    "    \n",
    "    clf = tree.DecisionTreeClassifier()\n",
    "    predicted = clf.fit(training, target).predict(test)  \n",
    "    sum1 = sum1 + (predicted!= real.isAlive).sum()\n",
    "#     print \"Case #%d - Number of mislabeled points out of a total %3d points : %2d\" \\\n",
    "#         % (i, len(predicted),(predicted!= real.isAlive).sum()) \n",
    "\n",
    "avg1 = sum1/k\n",
    "percent1 = avg1/len(predicted)*100\n",
    "\n",
    "print avg1, percent1"
   ]
  },
  {
   "cell_type": "code",
   "execution_count": 689,
   "metadata": {
    "collapsed": false
   },
   "outputs": [],
   "source": [
    "prediction_features = character_predictions[['isAlive', 'male','isAliveMother', 'isAliveFather','isAliveSpouse','isMarried','isNoble','age','numDeadRelations','boolDeadRelations', 'isPopular','book1','book2','book3','book4','book5']]\n",
    "prediction_features = pd.concat([prediction_features, pd.get_dummies(character_predictions.culture), pd.get_dummies(character_predictions.house)], axis=1)\n",
    "prediction_features = prediction_features.fillna(-100)"
   ]
  },
  {
   "cell_type": "code",
   "execution_count": 690,
   "metadata": {
    "collapsed": false
   },
   "outputs": [
    {
     "name": "stdout",
     "output_type": "stream",
     "text": [
      "247.568 25.4437821172\n"
     ]
    }
   ],
   "source": [
    "k = 1000\n",
    "# using 50% of the data set as training set\n",
    "split = prediction_features.shape[0]/2\n",
    "\n",
    "shuffled = prediction_features.iloc[np.random.permutation(len(prediction_features))]\n",
    "shuffled = shuffled.reset_index(drop=True)\n",
    "\n",
    "avg1 = 0.0\n",
    "sum1 = 0.0\n",
    "percent1 = 0.0\n",
    "\n",
    "for i in range(k):\n",
    "    shuffled = prediction_features.iloc[np.random.permutation(len(prediction_features))]\n",
    "    shuffled = shuffled.reset_index(drop=True)\n",
    "    \n",
    "    training = shuffled.ix[:split, 1:]\n",
    "    target = shuffled.ix[:split, :1]\n",
    "    test = shuffled.ix[split:,1:]\n",
    "    real = shuffled.ix[split:,:1]\n",
    "    \n",
    "    clf = tree.DecisionTreeClassifier()\n",
    "    predicted = clf.fit(training, target).predict(test)  \n",
    "    sum1 = sum1 + (predicted!= real.isAlive).sum()\n",
    "#     print \"Case #%d - Number of mislabeled points out of a total %3d points : %2d\" \\\n",
    "#         % (i, len(predicted),(predicted!= real.isAlive).sum()) \n",
    "\n",
    "avg1 = sum1/k\n",
    "percent1 = avg1/len(predicted)*100\n",
    "\n",
    "print avg1, percent1"
   ]
  },
  {
   "cell_type": "code",
   "execution_count": 691,
   "metadata": {
    "collapsed": true
   },
   "outputs": [],
   "source": [
    "prediction_features = character_predictions[['isAlive', 'male','isAliveMother', 'isAliveFather','isAliveSpouse','isMarried','isNoble','age','numDeadRelations','boolDeadRelations', 'isPopular','book1','book2','book3','book4','book5']]\n",
    "prediction_features = pd.concat([prediction_features, pd.get_dummies(character_predictions.culture), pd.get_dummies(character_predictions.house)], axis=1)\n",
    "prediction_features = prediction_features.fillna(-1000)"
   ]
  },
  {
   "cell_type": "code",
   "execution_count": 692,
   "metadata": {
    "collapsed": false,
    "scrolled": false
   },
   "outputs": [
    {
     "name": "stdout",
     "output_type": "stream",
     "text": [
      "[ 273 1466 1474 1481 1563 1677 1711 1727 1741 1749 1785 1792 1828 1830 1840]\n"
     ]
    }
   ],
   "source": [
    "#                     name  actual  pred  prediction\n",
    "# 273        Samwell Tarly       1     0           0\n",
    "# 1466          Arya Stark       1     0           1\n",
    "# 1474          Bran Stark       1     0           1\n",
    "# 1481    Cersei Lannister       1     1           1\n",
    "# 1563           Missandei       1     1           1\n",
    "# 1677  Daenerys Targaryen       1     0           0\n",
    "# 1711           Grey Worm       1     0           0\n",
    "# 1727        High Sparrow       1     1           0\n",
    "# 1741     Jaime Lannister       1     0           1\n",
    "# 1749            Jon Snow       1     1           1\n",
    "# 1785       Theon Greyjoy       1     0           1\n",
    "# 1792         Sansa Stark       1     1           0\n",
    "# 1828       Petyr Baelish       1     0           0\n",
    "# 1830               Varys       1     0           0\n",
    "# 1840    Tyrion Lannister       1     0           1\n",
    "\n",
    "charatersOfInterest = ['Tyrion Lannister','Arya Stark','Daenerys Targaryen', 'Jon Snow', 'Sansa Stark', 'Cersei Lannister',\n",
    "                       'Petyr Baelish', 'Jaime Lannister', 'Theon Greyjoy', 'Bran Stark', 'Varys', 'Samwell Tarly', \n",
    "                       'High Sparrow', 'Grey Worm', 'Missandei']\n",
    "\n",
    "\n",
    "# ----------\n",
    "# Coments are regarding prediction on each character individually\n",
    "# ----------\n",
    "#     alive\n",
    "# charatersOfInterest = ['Tyrion Lannister']\n",
    "#     dead wrong\n",
    "# charatersOfInterest = ['Arya Stark']\n",
    "#     dead wrong\n",
    "# charatersOfInterest = ['Daenerys Targaryen']\n",
    "#     alive\n",
    "# charatersOfInterest = ['Jon Snow']\n",
    "#     alive\n",
    "# charatersOfInterest = ['Sansa Stark']\n",
    "#     dead\n",
    "# charatersOfInterest = ['Joffrey Baratheon']\n",
    "#     alive\n",
    "# charatersOfInterest = ['Cersei Lannister']\n",
    "#     dead wrong\n",
    "# charatersOfInterest = ['Petyr Baelish']\n",
    "#     dead\n",
    "# charatersOfInterest = ['Sandor Clegane']\n",
    "#     alive wrong\n",
    "# charatersOfInterest = ['Eddard Stark']\n",
    "#     alive\n",
    "# charatersOfInterest = ['Jaime Lannister']\n",
    "#     alive\n",
    "# charatersOfInterest = ['Theon Greyjoy']\n",
    "#     alive\n",
    "# charatersOfInterest = ['Bran Stark']\n",
    "#     alive\n",
    "# charatersOfInterest = ['Melisandre']\n",
    "#     alive\n",
    "# charatersOfInterest = ['Varys']\n",
    "#     dead wrong\n",
    "# charatersOfInterest = ['Podrick Payne']\n",
    "#     dead interesting\n",
    "# charatersOfInterest = ['Ramsay Snow']\n",
    "#     alive\n",
    "# charatersOfInterest = ['Bronn']\n",
    "#     dead\n",
    "# charatersOfInterest = ['Robb Stark']\n",
    "#     alive\n",
    "# charatersOfInterest = ['Jorah Mormont']\n",
    "#     alive\n",
    "# charatersOfInterest = ['Davos Seaworth']\n",
    "#     dead wrong\n",
    "# charatersOfInterest = ['Daario Naharis']\n",
    "#     dead wrong\n",
    "# charatersOfInterest = ['Samwell Tarly']\n",
    "#     dead wrong\n",
    "# charatersOfInterest = ['High Sparrow']\n",
    "#     dead wrong\n",
    "# charatersOfInterest = ['Grey Worm']\n",
    "#     dead wrong\n",
    "# charatersOfInterest = ['Tormund']\n",
    "#     dead\n",
    "# charatersOfInterest = ['Tommen Baratheon']\n",
    "#     alive wrong\n",
    "# charatersOfInterest = ['Rickon Stark']\n",
    "\n",
    "# print character_predictions.name\n",
    "\n",
    "indexOfInterest = character_predictions[character_predictions.name.isin(charatersOfInterest)].index.values\n",
    "print indexOfInterest"
   ]
  },
  {
   "cell_type": "code",
   "execution_count": 693,
   "metadata": {
    "collapsed": false
   },
   "outputs": [],
   "source": [
    "training = prediction_features[~prediction_features.index.isin(indexOfInterest)].ix[:,1:]\n",
    "test = prediction_features[prediction_features.index.isin(indexOfInterest)].ix[:,1:]\n",
    "target = prediction_features[~prediction_features.index.isin(indexOfInterest)].ix[:,:1]\n",
    "real = prediction_features[prediction_features.index.isin(indexOfInterest)].ix[:,:1]"
   ]
  },
  {
   "cell_type": "code",
   "execution_count": 694,
   "metadata": {
    "collapsed": false,
    "scrolled": false
   },
   "outputs": [
    {
     "name": "stdout",
     "output_type": "stream",
     "text": [
      "[0 1 1 0 1 0 0 0 1 1 1 1 0 1 0]\n",
      "                    name  actual  pred  prediction\n",
      "273        Samwell Tarly       1     0           0\n",
      "1466          Arya Stark       1     0           1\n",
      "1474          Bran Stark       1     0           1\n",
      "1481    Cersei Lannister       1     1           0\n",
      "1563           Missandei       1     1           1\n",
      "1677  Daenerys Targaryen       1     0           0\n",
      "1711           Grey Worm       1     0           0\n",
      "1727        High Sparrow       1     1           0\n",
      "1741     Jaime Lannister       1     0           1\n",
      "1749            Jon Snow       1     1           1\n",
      "1785       Theon Greyjoy       1     0           1\n",
      "1792         Sansa Stark       1     1           1\n",
      "1828       Petyr Baelish       1     0           0\n",
      "1830               Varys       1     0           1\n",
      "1840    Tyrion Lannister       1     0           0\n"
     ]
    },
    {
     "name": "stderr",
     "output_type": "stream",
     "text": [
      "/Users/Tokio/anaconda2/lib/python2.7/site-packages/ipykernel/__main__.py:13: SettingWithCopyWarning: \n",
      "A value is trying to be set on a copy of a slice from a DataFrame.\n",
      "Try using .loc[row_indexer,col_indexer] = value instead\n",
      "\n",
      "See the caveats in the documentation: http://pandas.pydata.org/pandas-docs/stable/indexing.html#indexing-view-versus-copy\n"
     ]
    }
   ],
   "source": [
    "numTraining = 1500\n",
    "\n",
    "# training, target = prediction_features.ix[:numTraining,1:] , prediction_features.ix[:numTraining,:1]\n",
    "# test, real = prediction_features.ix[numTraining:,1:],prediction_features.ix[numTraining:,:1].as_matrix().T[0]\n",
    "\n",
    "clf = tree.DecisionTreeClassifier()\n",
    "\n",
    "predicted = clf.fit(training, target).predict(test)\n",
    "\n",
    "print predicted \n",
    "\n",
    "characters_predicted = character_predictions[character_predictions.index.isin(indexOfInterest)]\n",
    "characters_predicted['prediction'] = predicted\n",
    "\n",
    "print characters_predicted[['name', 'actual', 'pred', 'prediction']]\n",
    "\n",
    "# print real\n",
    "# print \"Number of mislabeled points out of a total %3d points : %2d\" % (predicted.shape[0],(predicted!=real).sum()) "
   ]
  },
  {
   "cell_type": "code",
   "execution_count": 695,
   "metadata": {
    "collapsed": false,
    "scrolled": false
   },
   "outputs": [],
   "source": [
    "# ranked_features = np.vstack((prediction_features.columns.values[1:], clf.feature_importances_))\n",
    "feature_names = prediction_features.columns.values[1:]\n",
    "feature_scores = clf.feature_importances_\n",
    "\n",
    "# print ranked_features.shape\n",
    "ranked_features = pd.DataFrame(feature_scores, index=feature_names, columns=['score'])\n",
    "ranked_features = ranked_features.sort_values('score', ascending=0)"
   ]
  },
  {
   "cell_type": "code",
   "execution_count": 696,
   "metadata": {
    "collapsed": false,
    "scrolled": false
   },
   "outputs": [
    {
     "name": "stdout",
     "output_type": "stream",
     "text": [
      "                      score\n",
      "house              0.361256\n",
      "age                0.152718\n",
      "culture            0.112946\n",
      "book4              0.080821\n",
      "book3              0.038825\n",
      "numDeadRelations   0.036318\n",
      "book5              0.033873\n",
      "book1              0.032564\n",
      "isPopular          0.029537\n",
      "male               0.027550\n",
      "isNoble            0.026530\n",
      "book2              0.025348\n",
      "isAliveSpouse      0.019650\n",
      "boolDeadRelations  0.007764\n",
      "isMarried          0.005514\n",
      "isAliveMother      0.004611\n",
      "isAliveFather      0.004175\n",
      "(17, 1)\n",
      "(426, 1)\n",
      "(348, 1)\n",
      "[ 0.36125618]\n"
     ]
    }
   ],
   "source": [
    "houses = character_predictions.house[pd.notnull].drop_duplicates()\n",
    "cultures = character_predictions.culture[pd.notnull].drop_duplicates()\n",
    "\n",
    "house_scores = ranked_features[ranked_features.index.isin(houses.values)]\n",
    "house_total = sum(house_scores.values)\n",
    "\n",
    "culture_scores = ranked_features[ranked_features.index.isin(cultures.values)]\n",
    "culture_total = sum(culture_scores.values)\n",
    "\n",
    "ranked_features2 = ranked_features[~ranked_features.index.isin(houses.values)]\n",
    "ranked_features2 = ranked_features2[~ranked_features2.index.isin(cultures.values)]\n",
    "\n",
    "ranked_features2.loc['house'] = [house_total[0]]\n",
    "ranked_features2.loc['culture'] = [culture_total[0]]\n",
    "\n",
    "ranked_features2 = ranked_features2.sort_values('score', ascending=0)\n",
    "\n",
    "print ranked_features2\n",
    "print ranked_features2.shape\n",
    "\n",
    "print ranked_features.shape\n",
    "\n",
    "print house_scores.shape\n",
    "print house_total\n",
    "\n"
   ]
  },
  {
   "cell_type": "code",
   "execution_count": null,
   "metadata": {
    "collapsed": true
   },
   "outputs": [],
   "source": []
  }
 ],
 "metadata": {
  "kernelspec": {
   "display_name": "Python [Root]",
   "language": "python",
   "name": "Python [Root]"
  },
  "language_info": {
   "codemirror_mode": {
    "name": "ipython",
    "version": 3
   },
   "file_extension": ".py",
   "mimetype": "text/x-python",
   "name": "python",
   "nbconvert_exporter": "python",
   "pygments_lexer": "ipython3",
   "version": "3.5.2"
  }
 },
 "nbformat": 4,
 "nbformat_minor": 0
}
